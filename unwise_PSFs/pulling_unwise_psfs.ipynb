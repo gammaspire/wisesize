{
 "cells": [
  {
   "cell_type": "markdown",
   "id": "35127c0e-457c-408a-aa90-bb547c56ce5a",
   "metadata": {},
   "source": [
    "Aim: pull unWISE PSFs using the PSFs associated with COADD tiles.\n",
    "\n",
    "* Match centers of galaxies with nearest coadd tile\n",
    "* Create a catalog column which includes the coadd IDs\n",
    "* Run unwise_psf.py to extract correct PSF with the coadd ID\n",
    "* Save PSF image for each galaxy"
   ]
  },
  {
   "cell_type": "code",
   "execution_count": 81,
   "id": "9b49feaf-f8d1-414f-b157-88e16de0c1b7",
   "metadata": {
    "tags": []
   },
   "outputs": [],
   "source": [
    "#import libraries\n",
    "from astropy.table import Table, vstack, unique\n",
    "from astropy.io import fits\n",
    "import numpy as np\n",
    "import os\n",
    "\n",
    "homedir=os.getenv(\"HOME\")"
   ]
  },
  {
   "cell_type": "markdown",
   "id": "3ff4e68b-33ba-4d3c-b106-14d1ea619c88",
   "metadata": {
    "tags": []
   },
   "source": [
    "### Part One: Matching Galaxies to Coadd Tiles"
   ]
  },
  {
   "cell_type": "code",
   "execution_count": 11,
   "id": "e3321b9d-27eb-4818-863a-56a4e93d163d",
   "metadata": {
    "tags": []
   },
   "outputs": [],
   "source": [
    "#read in tiles.fits, which lists tile coadd_ids and the corresponding (RA, DEC) of the tiles' centers\n",
    "tilefile=Table.read(homedir+'/github/wisesize/unwise_PSFs/tiles.fits')"
   ]
  },
  {
   "cell_type": "code",
   "execution_count": 12,
   "id": "62ead333-a497-42f8-becd-1435cb9d148b",
   "metadata": {
    "tags": []
   },
   "outputs": [
    {
     "data": {
      "text/html": [
       "<div><i>Table length=18240</i>\n",
       "<table id=\"table6168454288\" class=\"table-striped table-bordered table-condensed\">\n",
       "<thead><tr><th>coadd_id</th><th>ra</th><th>dec</th><th>row</th></tr></thead>\n",
       "<thead><tr><th>bytes8</th><th>float64</th><th>float64</th><th>int64</th></tr></thead>\n",
       "<tr><td>0000m016</td><td>0.0</td><td>-1.514444</td><td>0</td></tr>\n",
       "<tr><td>0000m031</td><td>0.0</td><td>-3.028889</td><td>1</td></tr>\n",
       "<tr><td>0000m046</td><td>0.0</td><td>-4.543333</td><td>2</td></tr>\n",
       "<tr><td>0000m061</td><td>0.0</td><td>-6.057778</td><td>599</td></tr>\n",
       "<tr><td>0000m076</td><td>0.0</td><td>-7.572222</td><td>600</td></tr>\n",
       "<tr><td>0000m091</td><td>0.0</td><td>-9.086667</td><td>601</td></tr>\n",
       "<tr><td>0000m107</td><td>0.0</td><td>-10.601111</td><td>602</td></tr>\n",
       "<tr><td>0000m122</td><td>0.0</td><td>-12.115556</td><td>603</td></tr>\n",
       "<tr><td>0000m137</td><td>0.0</td><td>-13.63</td><td>604</td></tr>\n",
       "<tr><td>0000m152</td><td>0.0</td><td>-15.144444</td><td>605</td></tr>\n",
       "<tr><td>...</td><td>...</td><td>...</td><td>...</td></tr>\n",
       "<tr><td>3584p060</td><td>358.48234</td><td>6.057778</td><td>13971</td></tr>\n",
       "<tr><td>3584p075</td><td>358.474564</td><td>7.572222</td><td>13972</td></tr>\n",
       "<tr><td>3584p090</td><td>358.467776</td><td>9.086667</td><td>13973</td></tr>\n",
       "<tr><td>3584p106</td><td>358.461196</td><td>10.601111</td><td>13974</td></tr>\n",
       "<tr><td>3584p121</td><td>358.454898</td><td>12.115556</td><td>13975</td></tr>\n",
       "<tr><td>3584p136</td><td>358.449489</td><td>13.63</td><td>13976</td></tr>\n",
       "<tr><td>3584p151</td><td>358.434246</td><td>15.144444</td><td>13977</td></tr>\n",
       "<tr><td>3584p166</td><td>358.429515</td><td>16.658889</td><td>13978</td></tr>\n",
       "<tr><td>3584p181</td><td>358.415008</td><td>18.173333</td><td>13397</td></tr>\n",
       "<tr><td>3584p196</td><td>358.400705</td><td>19.687778</td><td>13398</td></tr>\n",
       "</table></div>"
      ],
      "text/plain": [
       "<Table length=18240>\n",
       "coadd_id     ra        dec      row \n",
       " bytes8   float64    float64   int64\n",
       "-------- ---------- ---------- -----\n",
       "0000m016        0.0  -1.514444     0\n",
       "0000m031        0.0  -3.028889     1\n",
       "0000m046        0.0  -4.543333     2\n",
       "0000m061        0.0  -6.057778   599\n",
       "0000m076        0.0  -7.572222   600\n",
       "0000m091        0.0  -9.086667   601\n",
       "0000m107        0.0 -10.601111   602\n",
       "0000m122        0.0 -12.115556   603\n",
       "0000m137        0.0     -13.63   604\n",
       "0000m152        0.0 -15.144444   605\n",
       "     ...        ...        ...   ...\n",
       "3584p060  358.48234   6.057778 13971\n",
       "3584p075 358.474564   7.572222 13972\n",
       "3584p090 358.467776   9.086667 13973\n",
       "3584p106 358.461196  10.601111 13974\n",
       "3584p121 358.454898  12.115556 13975\n",
       "3584p136 358.449489      13.63 13976\n",
       "3584p151 358.434246  15.144444 13977\n",
       "3584p166 358.429515  16.658889 13978\n",
       "3584p181 358.415008  18.173333 13397\n",
       "3584p196 358.400705  19.687778 13398"
      ]
     },
     "execution_count": 12,
     "metadata": {},
     "output_type": "execute_result"
    }
   ],
   "source": [
    "#let's briefly look at the format of the table...\n",
    "tilefile"
   ]
  },
  {
   "cell_type": "code",
   "execution_count": 68,
   "id": "ef43228f-9fa0-4914-b504-7e03df9cf150",
   "metadata": {},
   "outputs": [],
   "source": [
    "#yay. now, load the galaxy catalog of choice. for my purposes, I will use my (preliminary) WISESize table\n",
    "wisesize = Table.read(homedir+'/Desktop/wisesize/wisesize_v1.fits')\n",
    "\n",
    "#isolate RA and DEC columns\n",
    "wise_RA = wisesize['RA']\n",
    "wise_DEC = wisesize['DEC']\n",
    "\n",
    "tile_RA = tilefile['ra']\n",
    "tile_DEC = tilefile['dec']"
   ]
  },
  {
   "cell_type": "code",
   "execution_count": 75,
   "id": "41bcce95-cf9b-4af5-8556-b915dabce5f4",
   "metadata": {
    "tags": []
   },
   "outputs": [],
   "source": [
    "#create empty index array\n",
    "idx_arr=np.zeros(len(RA),dtype=int)\n",
    "\n",
    "#for every catalog RA and DEC, find tilefile index where the central RA&DEC most closely matches to catalog RA&DEC\n",
    "for n in range(len(wise_RA)):\n",
    "    idx = (np.abs(tile_RA - wise_RA[n]) + np.abs(tile_RA - wise_DEC[n])).argmin()\n",
    "    idx_arr[n]=idx"
   ]
  },
  {
   "cell_type": "code",
   "execution_count": 78,
   "id": "7a6685a4-b4d1-406f-8a76-a39353189fe2",
   "metadata": {
    "tags": []
   },
   "outputs": [],
   "source": [
    "#set new column (coadd_id) which contains the appropriate row-matched tile name for each galaxy\n",
    "wisesize['coadd_id'] = tilefile[idx_arr]['coadd_id']"
   ]
  },
  {
   "cell_type": "markdown",
   "id": "2524bd4b-2e9c-48d8-8a28-2155d083e997",
   "metadata": {},
   "source": [
    "### Part Two: Pulling PSF Images Based on Coadd IDs"
   ]
  },
  {
   "cell_type": "code",
   "execution_count": 104,
   "id": "a1ef1a3a-1dcf-4d83-908b-58a7db948832",
   "metadata": {
    "tags": []
   },
   "outputs": [],
   "source": [
    "#we now have a table of sample galaxies and their corresponding Coadd IDs. What about the unWISE PSFs?\n",
    "#firstly...we need to pull a github repository\n",
    "        #https://github.com/legacysurvey/unwise_psf.git\n",
    "\n",
    "#unwise_psf.py has some wonky dependencies, namely astrometry.net\n",
    "#we need to git clone that repository as well\n",
    "#https://github.com/dstndstn/astrometry.net.git\n",
    "#be sure that your python library contains the astrometry.net dependencies as explained in the README.md file\n",
    "\n",
    "#one workaround to ensure you can access what you need (without having to BUILD astrometry.net) \n",
    "#begins with a simple pip install\n",
    "#pip install astrometry\n",
    "\n",
    "#cd to where you git cloned astrometry.net, and locate the util directory\n",
    "#move (or cp) the util directory from astrometry.net repository to astrometry repository (the path to which\n",
    "#you can find by typing the following into a terminal window:\n",
    "#python -c \"import astrometry; print(astrometry.__file__)\"\n",
    "\n",
    "#NOTE: if you would rather build astrometry.net but have trouble importing the libraries when\n",
    "#running python, try typing in a terminal window\n",
    "#export PYTHONPATH=${PYTHONPATH}:$CONDA_PREFIX/lib/python\n",
    "#because the astrometry.net code by default installs the code in a place where python won't find it."
   ]
  },
  {
   "cell_type": "code",
   "execution_count": 105,
   "id": "36f6d731-fdf7-4cc8-9bb8-592942fa21a0",
   "metadata": {
    "tags": []
   },
   "outputs": [],
   "source": [
    "#move to location where you git cloned the repository\n",
    "os.chdir(homedir+'/github/unwise_psf/py')\n",
    "import unwise_psf.unwise_psf as unwise_psf"
   ]
  },
  {
   "cell_type": "code",
   "execution_count": 106,
   "id": "5d1f6f71-9233-40e3-b2ae-7cdf768745aa",
   "metadata": {
    "tags": []
   },
   "outputs": [],
   "source": [
    "#examples:\n",
    "#psf_w1 = unwise_psf.get_unwise_psf(1,'0000m016')\n",
    "#psf_w2 = unwise_psf.get_unwise_psf(2, '0000m016')\n",
    "#psf_w3 = unwise_psf.get_unwise_psf(3, '0000m016')\n",
    "#psf_w4 = unwise_psf.get_unwise_psf(4, '0000m016')\n",
    "\n",
    "#the output will be a 2D data array of the relevant PSF, which you can then write to a filename\n",
    "#according to a naming convention of your choice."
   ]
  },
  {
   "cell_type": "code",
   "execution_count": 111,
   "id": "8d9fdffb-076b-428d-b90b-026c5c9fbfcf",
   "metadata": {
    "tags": []
   },
   "outputs": [],
   "source": [
    "#for my purposes...\n",
    "#on draco VMS, data is mounted at\n",
    "#/mnt/astrophysics/lsdr9-wisesize/dr9-_____/native/\n",
    "#where _____ = north or south\n",
    "#each directory in native is labeled as a 3-digit RA integer (e.g., 090, 100, 283). \n",
    "\n",
    "#each filename follows this type of scheme:\n",
    "#SGA2025_J090.6918+60.5232.fits\n",
    "\n",
    "#[090.6918] is the RA rounded to 4 sigfigs, [+60.5232] is the DEC rounded to 4 sigfigs\n",
    "\n",
    "#I could probably take each filename, append '-PSF-W3.fits', and proceed from there.\n",
    "#e.g., SGA2025_J090.6918+60.5232-PSF-W3.fits"
   ]
  },
  {
   "cell_type": "code",
   "execution_count": 156,
   "id": "80408cff-4fca-4803-bca3-8bb9aef941d8",
   "metadata": {
    "tags": []
   },
   "outputs": [
    {
     "name": "stdout",
     "output_type": "stream",
     "text": [
      "1\n",
      "2\n",
      "3\n",
      "4\n"
     ]
    }
   ],
   "source": [
    "for n in range(1,5):\n",
    "    print(n)"
   ]
  },
  {
   "cell_type": "code",
   "execution_count": null,
   "id": "eb729d51-1eb8-4150-bb78-7f6b34fe57fb",
   "metadata": {},
   "outputs": [],
   "source": []
  }
 ],
 "metadata": {
  "kernelspec": {
   "display_name": "Python 3 (ipykernel)",
   "language": "python",
   "name": "python3"
  },
  "language_info": {
   "codemirror_mode": {
    "name": "ipython",
    "version": 3
   },
   "file_extension": ".py",
   "mimetype": "text/x-python",
   "name": "python",
   "nbconvert_exporter": "python",
   "pygments_lexer": "ipython3",
   "version": "3.11.8"
  }
 },
 "nbformat": 4,
 "nbformat_minor": 5
}
