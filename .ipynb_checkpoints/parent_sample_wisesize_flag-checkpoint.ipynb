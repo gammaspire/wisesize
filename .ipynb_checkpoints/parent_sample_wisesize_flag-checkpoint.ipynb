{
 "cells": [
  {
   "cell_type": "code",
   "execution_count": 2,
   "id": "6adf1a29-b390-4d0b-be65-0ed694b50459",
   "metadata": {
    "tags": []
   },
   "outputs": [],
   "source": [
    "import numpy as np\n",
    "from matplotlib import pyplot as plt\n",
    "%matplotlib inline\n",
    "from astropy.table import Table\n",
    "\n",
    "import os\n",
    "homedir=os.getenv(\"HOME\")"
   ]
  },
  {
   "cell_type": "code",
   "execution_count": 6,
   "id": "4770f13c-9030-4034-b250-323c606ed020",
   "metadata": {
    "tags": []
   },
   "outputs": [],
   "source": [
    "nedlvs = Table.read(homedir+'/Desktop/wisesize/NEDbyname-NEDLVS_20210922_v2.fits')\n",
    "wisesize = Table.read(path+'wisesize/wisesize_v4.fits')"
   ]
  },
  {
   "cell_type": "code",
   "execution_count": null,
   "id": "ef1b4e51-c8ee-4efc-ab42-8890f82070fd",
   "metadata": {},
   "outputs": [],
   "source": [
    "flag=[]\n",
    "objids=[]\n",
    "for n in range(len(nedlvs_parent)):\n",
    "    try:\n",
    "        index=np.where((nedlvs_parent['OBJNAME'][n]==wisesize['OBJNAME']))[0][0]\n",
    "        flag.append(True)\n",
    "        objids.append(wisesize['OBJID'][index])\n",
    "    except:\n",
    "        flag.append(False)\n",
    "        objids.append('--')"
   ]
  },
  {
   "cell_type": "code",
   "execution_count": null,
   "id": "33519aac-c4e3-4584-8fb6-d46d5b72a209",
   "metadata": {},
   "outputs": [],
   "source": [
    "parent_table = Table([nedlvs_parent['OBJNAME'],objids,nedlvs_parent['RA'],\n",
    "                          nedlvs_parent['DEC'],nedlvs_parent['Z'],nedlvs_parent['OBJTYPE'],\n",
    "                          flag],\n",
    "                           names=['OBJNAME','OBJID','RA','DEC','Z','OBJTYPE','WISESize_flag'])"
   ]
  },
  {
   "cell_type": "code",
   "execution_count": null,
   "id": "df4802bc-18e9-4339-b294-d08f7616317b",
   "metadata": {},
   "outputs": [],
   "source": [
    "parent_table.sort('OBJID')"
   ]
  },
  {
   "cell_type": "code",
   "execution_count": 8,
   "id": "193caf7c-4e98-4b5b-8c2d-7a639a30f61f",
   "metadata": {
    "tags": []
   },
   "outputs": [],
   "source": [
    "parent_table.write(homedir+'/Desktop/wisesize/nedlvs_parent.fits')"
   ]
  }
 ],
 "metadata": {
  "kernelspec": {
   "display_name": "Python 3 (ipykernel)",
   "language": "python",
   "name": "python3"
  },
  "language_info": {
   "codemirror_mode": {
    "name": "ipython",
    "version": 3
   },
   "file_extension": ".py",
   "mimetype": "text/x-python",
   "name": "python",
   "nbconvert_exporter": "python",
   "pygments_lexer": "ipython3",
   "version": "3.11.8"
  }
 },
 "nbformat": 4,
 "nbformat_minor": 5
}
