{
 "cells": [
  {
   "cell_type": "code",
   "execution_count": 269,
   "id": "1e6e21ad-fe6a-4186-9ef4-fce26d60f9c7",
   "metadata": {
    "tags": []
   },
   "outputs": [],
   "source": [
    "import os\n",
    "homedir = os.getenv(\"HOME\")\n",
    "\n",
    "from sklearn.model_selection import train_test_split\n",
    "from sklearn.metrics import confusion_matrix\n",
    "from sklearn.metrics import accuracy_score\n",
    "from sklearn.metrics import balanced_accuracy_score\n",
    "from sklearn.tree import DecisionTreeClassifier\n",
    "\n",
    "from pandas import read_csv\n",
    "from astropy.table import Table\n",
    "import numpy as np"
   ]
  },
  {
   "cell_type": "raw",
   "id": "d84f7374-9116-43d7-85ae-863afe8524ae",
   "metadata": {
    "tags": []
   },
   "source": [
    "#quickly converting .fits to .csv for read_csv\n",
    "f=Table.read(homedir+'/Desktop/galfit_files/vf_v2_galfit_W3-fixBA.fits')\n",
    "f2=Table.read(homedir+'/Desktop/galfit_files/VF_WISESIZE_photSNR.fits')\n",
    "\n",
    "sample_flag = f2['subsample_flag']\n",
    "f=f[sample_flag]\n",
    "\n",
    "f.remove_columns(['XC','YC','XC_ERR','YC_ERR','MAG','MAG_ERR','RE','RE_ERR','N','N_ERR',\n",
    "                'AR','AR_ERR','PA','PA_ERR','SKY','SKY_ERR','CHI2NU','Numerical_Error'])\n",
    "\n",
    "f.write(homedir+'/Desktop/galfit_files/vf_v2_galfit_W3-fixBA-ML.csv',format='csv',overwrite=True)"
   ]
  },
  {
   "cell_type": "code",
   "execution_count": 270,
   "id": "70dbe506-a750-4c04-a8bf-0e914fa6055d",
   "metadata": {
    "tags": []
   },
   "outputs": [],
   "source": [
    "w3_params = read_csv(homedir+'/Desktop/galfit_files/vf_v2_galfit_W3-fixBA-ML.csv')"
   ]
  },
  {
   "cell_type": "code",
   "execution_count": 282,
   "id": "886ba9d2-e5bf-4df2-a4b6-505962d6139b",
   "metadata": {
    "tags": []
   },
   "outputs": [],
   "source": [
    "dat = w3_params.values\n",
    "x = dat[:,1:18]   #isolate features in line-matched rows\n",
    "y = dat[:,18]     #isolate \"classes\" (i.e., whether or not there is a numerical error)"
   ]
  },
  {
   "cell_type": "code",
   "execution_count": 292,
   "id": "2f32e0a2-ec1a-4512-9e69-1c8932b947f3",
   "metadata": {
    "tags": []
   },
   "outputs": [],
   "source": [
    "#create train and test set for data; the test_size=0.50 indicates that I am wanting 50% split\n",
    "#of the data between the two types.\n",
    "#random state --> splits 'randomly' in a way that is reproducible for all who use the same integer\n",
    "\n",
    "#xfold1, xfold2, yfold1, yfold2 = train_test_split(x,y.astype('bool'),test_size=0.50, random_state=42)\n",
    "xfold1 = x[:int(len(x)/2)]\n",
    "xfold2 = x[int(len(x)/2):]\n",
    "yfold1 = y[:int(len(x)/2)].astype('bool')\n",
    "yfold2 = y[int(len(x)/2):].astype('bool')"
   ]
  },
  {
   "cell_type": "code",
   "execution_count": 320,
   "id": "67dacd79-4b19-4f5e-8dc2-f93d3deb11fa",
   "metadata": {
    "tags": []
   },
   "outputs": [],
   "source": [
    "def train_data_dectree(xfold1,xfold2,yfold1,yfold2):\n",
    "    #overfitting tendency\n",
    "    #unstable; small variations in data might resultin completely different tree\n",
    "    #training algorithms do not guarantee globally optimal decision trees\n",
    "    #anyhow.\n",
    "    model=DecisionTreeClassifier(random_state=42)\n",
    "    model.fit(xfold1, yfold1) #first fold training\n",
    "    pred1 = model.predict(xfold2) #first fold testing\n",
    "    model.fit(xfold2,yfold2) #second fold training\n",
    "    pred2 = model.predict(xfold1) #second fold testing\n",
    "    actual_dec = np.concatenate([yfold1,yfold2])\n",
    "    pred_dec = np.concatenate([pred2,pred1])\n",
    "\n",
    "    print('Decision Tree')\n",
    "    print(f'Overall Accuracy: {np.round(accuracy_score(actual_dec,pred_dec),3)*100}%')\n",
    "    print('Confusion Matrix: ')\n",
    "    print(confusion_matrix(actual_dec,pred_dec))\n",
    "    return actual_dec, pred_dec"
   ]
  },
  {
   "cell_type": "code",
   "execution_count": 321,
   "id": "6dce8e7d-646b-4e94-bb29-44eb2ac046c3",
   "metadata": {
    "tags": []
   },
   "outputs": [
    {
     "name": "stdout",
     "output_type": "stream",
     "text": [
      "Decision Tree\n",
      "Overall Accuracy: 99.6%\n",
      "Confusion Matrix: \n",
      "[[871   2]\n",
      " [  2 120]]\n"
     ]
    }
   ],
   "source": [
    "actual_dec, pred_dec = train_data_dectree(xfold1,xfold2,yfold1,yfold2)"
   ]
  },
  {
   "cell_type": "code",
   "execution_count": 323,
   "id": "7f980ed4-ebb1-472e-b774-d9a302f2b8ce",
   "metadata": {
    "tags": []
   },
   "outputs": [
    {
     "data": {
      "text/plain": [
       "7      VFID0020\n",
       "323    VFID1520\n",
       "Name: VFID, dtype: object"
      ]
     },
     "execution_count": 323,
     "metadata": {},
     "output_type": "execute_result"
    }
   ],
   "source": [
    "#False Negatives\n",
    "w3_params['VFID'][(~pred_dec) & (actual_dec)]"
   ]
  },
  {
   "cell_type": "code",
   "execution_count": 331,
   "id": "16fc3fbd-ecea-4152-ad58-33c056825383",
   "metadata": {
    "tags": []
   },
   "outputs": [
    {
     "data": {
      "text/html": [
       "<div>\n",
       "<style scoped>\n",
       "    .dataframe tbody tr th:only-of-type {\n",
       "        vertical-align: middle;\n",
       "    }\n",
       "\n",
       "    .dataframe tbody tr th {\n",
       "        vertical-align: top;\n",
       "    }\n",
       "\n",
       "    .dataframe thead th {\n",
       "        text-align: right;\n",
       "    }\n",
       "</style>\n",
       "<table border=\"1\" class=\"dataframe\">\n",
       "  <thead>\n",
       "    <tr style=\"text-align: right;\">\n",
       "      <th></th>\n",
       "      <th>VFID</th>\n",
       "      <th>CXC</th>\n",
       "      <th>CXC_ERR</th>\n",
       "      <th>CYC</th>\n",
       "      <th>CYC_ERR</th>\n",
       "      <th>CMAG</th>\n",
       "      <th>CMAG_ERR</th>\n",
       "      <th>CRE</th>\n",
       "      <th>CRE_ERR</th>\n",
       "      <th>CN</th>\n",
       "      <th>CN_ERR</th>\n",
       "      <th>CAR</th>\n",
       "      <th>CAR_ERR</th>\n",
       "      <th>CPA</th>\n",
       "      <th>CPA_ERR</th>\n",
       "      <th>CSKY</th>\n",
       "      <th>CSKY_ERR</th>\n",
       "      <th>CCHI2NU</th>\n",
       "      <th>CNumerical_Error</th>\n",
       "    </tr>\n",
       "  </thead>\n",
       "  <tbody>\n",
       "    <tr>\n",
       "      <th>7</th>\n",
       "      <td>VFID0020</td>\n",
       "      <td>-47.3049</td>\n",
       "      <td>3.030021e+12</td>\n",
       "      <td>-33.8367</td>\n",
       "      <td>7.884976e+12</td>\n",
       "      <td>27.8689</td>\n",
       "      <td>0.0</td>\n",
       "      <td>608.9214</td>\n",
       "      <td>0.0</td>\n",
       "      <td>2.0422</td>\n",
       "      <td>0.0</td>\n",
       "      <td>0.49</td>\n",
       "      <td>0.0</td>\n",
       "      <td>-9.6</td>\n",
       "      <td>0.0</td>\n",
       "      <td>1512.657</td>\n",
       "      <td>360.1975</td>\n",
       "      <td>0.0</td>\n",
       "      <td>True</td>\n",
       "    </tr>\n",
       "  </tbody>\n",
       "</table>\n",
       "</div>"
      ],
      "text/plain": [
       "       VFID      CXC       CXC_ERR      CYC       CYC_ERR     CMAG  CMAG_ERR  \\\n",
       "7  VFID0020 -47.3049  3.030021e+12 -33.8367  7.884976e+12  27.8689       0.0   \n",
       "\n",
       "        CRE  CRE_ERR      CN  CN_ERR   CAR  CAR_ERR  CPA  CPA_ERR      CSKY  \\\n",
       "7  608.9214      0.0  2.0422     0.0  0.49      0.0 -9.6      0.0  1512.657   \n",
       "\n",
       "   CSKY_ERR  CCHI2NU  CNumerical_Error  \n",
       "7  360.1975      0.0              True  "
      ]
     },
     "execution_count": 331,
     "metadata": {},
     "output_type": "execute_result"
    }
   ],
   "source": [
    "w3_params[w3_params['VFID']=='VFID0020']"
   ]
  },
  {
   "cell_type": "code",
   "execution_count": 332,
   "id": "20785e1a-9ba0-4e72-8d86-af61f5a9c5a0",
   "metadata": {
    "tags": []
   },
   "outputs": [
    {
     "data": {
      "text/html": [
       "<div>\n",
       "<style scoped>\n",
       "    .dataframe tbody tr th:only-of-type {\n",
       "        vertical-align: middle;\n",
       "    }\n",
       "\n",
       "    .dataframe tbody tr th {\n",
       "        vertical-align: top;\n",
       "    }\n",
       "\n",
       "    .dataframe thead th {\n",
       "        text-align: right;\n",
       "    }\n",
       "</style>\n",
       "<table border=\"1\" class=\"dataframe\">\n",
       "  <thead>\n",
       "    <tr style=\"text-align: right;\">\n",
       "      <th></th>\n",
       "      <th>VFID</th>\n",
       "      <th>CXC</th>\n",
       "      <th>CXC_ERR</th>\n",
       "      <th>CYC</th>\n",
       "      <th>CYC_ERR</th>\n",
       "      <th>CMAG</th>\n",
       "      <th>CMAG_ERR</th>\n",
       "      <th>CRE</th>\n",
       "      <th>CRE_ERR</th>\n",
       "      <th>CN</th>\n",
       "      <th>CN_ERR</th>\n",
       "      <th>CAR</th>\n",
       "      <th>CAR_ERR</th>\n",
       "      <th>CPA</th>\n",
       "      <th>CPA_ERR</th>\n",
       "      <th>CSKY</th>\n",
       "      <th>CSKY_ERR</th>\n",
       "      <th>CCHI2NU</th>\n",
       "      <th>CNumerical_Error</th>\n",
       "    </tr>\n",
       "  </thead>\n",
       "  <tbody>\n",
       "    <tr>\n",
       "      <th>323</th>\n",
       "      <td>VFID1520</td>\n",
       "      <td>35.4102</td>\n",
       "      <td>0.2408</td>\n",
       "      <td>35.7984</td>\n",
       "      <td>0.306</td>\n",
       "      <td>9.931</td>\n",
       "      <td>0.0681</td>\n",
       "      <td>6.7641</td>\n",
       "      <td>6.3815</td>\n",
       "      <td>0.0495</td>\n",
       "      <td>0.1563</td>\n",
       "      <td>0.31</td>\n",
       "      <td>0.0</td>\n",
       "      <td>-38.61</td>\n",
       "      <td>0.0</td>\n",
       "      <td>12.141</td>\n",
       "      <td>4.6223</td>\n",
       "      <td>0.0</td>\n",
       "      <td>True</td>\n",
       "    </tr>\n",
       "  </tbody>\n",
       "</table>\n",
       "</div>"
      ],
      "text/plain": [
       "         VFID      CXC  CXC_ERR      CYC  CYC_ERR   CMAG  CMAG_ERR     CRE  \\\n",
       "323  VFID1520  35.4102   0.2408  35.7984    0.306  9.931    0.0681  6.7641   \n",
       "\n",
       "     CRE_ERR      CN  CN_ERR   CAR  CAR_ERR    CPA  CPA_ERR    CSKY  CSKY_ERR  \\\n",
       "323   6.3815  0.0495  0.1563  0.31      0.0 -38.61      0.0  12.141    4.6223   \n",
       "\n",
       "     CCHI2NU  CNumerical_Error  \n",
       "323      0.0              True  "
      ]
     },
     "execution_count": 332,
     "metadata": {},
     "output_type": "execute_result"
    }
   ],
   "source": [
    "w3_params[w3_params['VFID']=='VFID1520']"
   ]
  },
  {
   "cell_type": "code",
   "execution_count": 324,
   "id": "d7b5b19e-24ac-452a-a714-5e97e3a506b8",
   "metadata": {
    "tags": []
   },
   "outputs": [
    {
     "data": {
      "text/plain": [
       "294    VFID1386\n",
       "750    VFID4407\n",
       "Name: VFID, dtype: object"
      ]
     },
     "execution_count": 324,
     "metadata": {},
     "output_type": "execute_result"
    }
   ],
   "source": [
    "#False Positives\n",
    "w3_params['VFID'][(pred_dec) & (~actual_dec)]"
   ]
  },
  {
   "cell_type": "code",
   "execution_count": 330,
   "id": "dcf7bd8c-e79e-4d7c-8ed9-7d3beda9b9af",
   "metadata": {
    "tags": []
   },
   "outputs": [
    {
     "data": {
      "text/html": [
       "<div>\n",
       "<style scoped>\n",
       "    .dataframe tbody tr th:only-of-type {\n",
       "        vertical-align: middle;\n",
       "    }\n",
       "\n",
       "    .dataframe tbody tr th {\n",
       "        vertical-align: top;\n",
       "    }\n",
       "\n",
       "    .dataframe thead th {\n",
       "        text-align: right;\n",
       "    }\n",
       "</style>\n",
       "<table border=\"1\" class=\"dataframe\">\n",
       "  <thead>\n",
       "    <tr style=\"text-align: right;\">\n",
       "      <th></th>\n",
       "      <th>VFID</th>\n",
       "      <th>CXC</th>\n",
       "      <th>CXC_ERR</th>\n",
       "      <th>CYC</th>\n",
       "      <th>CYC_ERR</th>\n",
       "      <th>CMAG</th>\n",
       "      <th>CMAG_ERR</th>\n",
       "      <th>CRE</th>\n",
       "      <th>CRE_ERR</th>\n",
       "      <th>CN</th>\n",
       "      <th>CN_ERR</th>\n",
       "      <th>CAR</th>\n",
       "      <th>CAR_ERR</th>\n",
       "      <th>CPA</th>\n",
       "      <th>CPA_ERR</th>\n",
       "      <th>CSKY</th>\n",
       "      <th>CSKY_ERR</th>\n",
       "      <th>CCHI2NU</th>\n",
       "      <th>CNumerical_Error</th>\n",
       "    </tr>\n",
       "  </thead>\n",
       "  <tbody>\n",
       "    <tr>\n",
       "      <th>294</th>\n",
       "      <td>VFID1386</td>\n",
       "      <td>19.6609</td>\n",
       "      <td>0.1262</td>\n",
       "      <td>20.0331</td>\n",
       "      <td>0.1354</td>\n",
       "      <td>9.1157</td>\n",
       "      <td>1.0897</td>\n",
       "      <td>6.7486</td>\n",
       "      <td>16.7843</td>\n",
       "      <td>8.4831</td>\n",
       "      <td>10.2725</td>\n",
       "      <td>0.79</td>\n",
       "      <td>0.0</td>\n",
       "      <td>-65.72</td>\n",
       "      <td>0.0</td>\n",
       "      <td>5.9656</td>\n",
       "      <td>27.5554</td>\n",
       "      <td>0.0</td>\n",
       "      <td>False</td>\n",
       "    </tr>\n",
       "  </tbody>\n",
       "</table>\n",
       "</div>"
      ],
      "text/plain": [
       "         VFID      CXC  CXC_ERR      CYC  CYC_ERR    CMAG  CMAG_ERR     CRE  \\\n",
       "294  VFID1386  19.6609   0.1262  20.0331   0.1354  9.1157    1.0897  6.7486   \n",
       "\n",
       "     CRE_ERR      CN   CN_ERR   CAR  CAR_ERR    CPA  CPA_ERR    CSKY  \\\n",
       "294  16.7843  8.4831  10.2725  0.79      0.0 -65.72      0.0  5.9656   \n",
       "\n",
       "     CSKY_ERR  CCHI2NU  CNumerical_Error  \n",
       "294   27.5554      0.0             False  "
      ]
     },
     "execution_count": 330,
     "metadata": {},
     "output_type": "execute_result"
    }
   ],
   "source": [
    "w3_params[w3_params['VFID']=='VFID1386']"
   ]
  },
  {
   "cell_type": "code",
   "execution_count": 329,
   "id": "150be5a1-8a06-4b7d-ae96-9de669e496e5",
   "metadata": {
    "tags": []
   },
   "outputs": [
    {
     "data": {
      "text/html": [
       "<div>\n",
       "<style scoped>\n",
       "    .dataframe tbody tr th:only-of-type {\n",
       "        vertical-align: middle;\n",
       "    }\n",
       "\n",
       "    .dataframe tbody tr th {\n",
       "        vertical-align: top;\n",
       "    }\n",
       "\n",
       "    .dataframe thead th {\n",
       "        text-align: right;\n",
       "    }\n",
       "</style>\n",
       "<table border=\"1\" class=\"dataframe\">\n",
       "  <thead>\n",
       "    <tr style=\"text-align: right;\">\n",
       "      <th></th>\n",
       "      <th>VFID</th>\n",
       "      <th>CXC</th>\n",
       "      <th>CXC_ERR</th>\n",
       "      <th>CYC</th>\n",
       "      <th>CYC_ERR</th>\n",
       "      <th>CMAG</th>\n",
       "      <th>CMAG_ERR</th>\n",
       "      <th>CRE</th>\n",
       "      <th>CRE_ERR</th>\n",
       "      <th>CN</th>\n",
       "      <th>CN_ERR</th>\n",
       "      <th>CAR</th>\n",
       "      <th>CAR_ERR</th>\n",
       "      <th>CPA</th>\n",
       "      <th>CPA_ERR</th>\n",
       "      <th>CSKY</th>\n",
       "      <th>CSKY_ERR</th>\n",
       "      <th>CCHI2NU</th>\n",
       "      <th>CNumerical_Error</th>\n",
       "    </tr>\n",
       "  </thead>\n",
       "  <tbody>\n",
       "    <tr>\n",
       "      <th>750</th>\n",
       "      <td>VFID4407</td>\n",
       "      <td>28.6593</td>\n",
       "      <td>18.0815</td>\n",
       "      <td>34.6691</td>\n",
       "      <td>64.1675</td>\n",
       "      <td>9.6956</td>\n",
       "      <td>5.61</td>\n",
       "      <td>6.5033</td>\n",
       "      <td>55.0734</td>\n",
       "      <td>0.8547</td>\n",
       "      <td>8.8682</td>\n",
       "      <td>0.01</td>\n",
       "      <td>0.0</td>\n",
       "      <td>0.0</td>\n",
       "      <td>0.0</td>\n",
       "      <td>1.2048</td>\n",
       "      <td>14.8712</td>\n",
       "      <td>0.0</td>\n",
       "      <td>False</td>\n",
       "    </tr>\n",
       "  </tbody>\n",
       "</table>\n",
       "</div>"
      ],
      "text/plain": [
       "         VFID      CXC  CXC_ERR      CYC  CYC_ERR    CMAG  CMAG_ERR     CRE  \\\n",
       "750  VFID4407  28.6593  18.0815  34.6691  64.1675  9.6956      5.61  6.5033   \n",
       "\n",
       "     CRE_ERR      CN  CN_ERR   CAR  CAR_ERR  CPA  CPA_ERR    CSKY  CSKY_ERR  \\\n",
       "750  55.0734  0.8547  8.8682  0.01      0.0  0.0      0.0  1.2048   14.8712   \n",
       "\n",
       "     CCHI2NU  CNumerical_Error  \n",
       "750      0.0             False  "
      ]
     },
     "execution_count": 329,
     "metadata": {},
     "output_type": "execute_result"
    }
   ],
   "source": [
    "w3_params[w3_params['VFID']=='VFID4407']"
   ]
  },
  {
   "cell_type": "code",
   "execution_count": null,
   "id": "9711b36f-faf1-4184-9788-21787fceaf09",
   "metadata": {},
   "outputs": [],
   "source": []
  }
 ],
 "metadata": {
  "kernelspec": {
   "display_name": "Python 3 (ipykernel)",
   "language": "python",
   "name": "python3"
  },
  "language_info": {
   "codemirror_mode": {
    "name": "ipython",
    "version": 3
   },
   "file_extension": ".py",
   "mimetype": "text/x-python",
   "name": "python",
   "nbconvert_exporter": "python",
   "pygments_lexer": "ipython3",
   "version": "3.11.8"
  }
 },
 "nbformat": 4,
 "nbformat_minor": 5
}
