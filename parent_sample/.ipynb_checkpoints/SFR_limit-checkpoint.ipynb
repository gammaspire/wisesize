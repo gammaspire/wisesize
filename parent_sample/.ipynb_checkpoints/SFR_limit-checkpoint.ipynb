{
 "cells": [
  {
   "cell_type": "code",
   "execution_count": 1,
   "id": "bc66f1dd-dc4c-4fb2-8dc9-df21ff2a5f70",
   "metadata": {
    "tags": []
   },
   "outputs": [],
   "source": [
    "import numpy as np\n",
    "from matplotlib import pyplot as plt\n",
    "%matplotlib inline\n",
    "from astropy.table import Table\n",
    "import os\n",
    "homedir=os.getenv('HOME')"
   ]
  },
  {
   "cell_type": "markdown",
   "id": "c0b3d898-e4f9-4dff-9158-678f79035522",
   "metadata": {},
   "source": [
    "https://github.com/gammaspire/research/blob/local/data_analysis/SFRcut_diagnostics.ipynb"
   ]
  },
  {
   "cell_type": "markdown",
   "id": "045be74c-6ec4-466e-8e01-dfce0d44af87",
   "metadata": {},
   "source": [
    "### Read Tables"
   ]
  },
  {
   "cell_type": "code",
   "execution_count": 2,
   "id": "eb94be30-fcab-4dce-a895-772a2c64d001",
   "metadata": {},
   "outputs": [
    {
     "name": "stderr",
     "output_type": "stream",
     "text": [
      "WARNING: File may have been truncated: actual file length (962405800) is smaller than the expected size (962406720) [astropy.io.fits.file]\n"
     ]
    }
   ],
   "source": [
    "path = homedir+'/Desktop/wisesize/'\n",
    "cat = Table.read(path+'nedlvs_parent_v1.fits')\n",
    "\n",
    "#full NED-LVS sample (need for SNR data, if not already available)\n",
    "ned_sample = Table.read(homedir+'/Desktop/wisesize/archive_tables/NEDLVS_20210922_v2.fits')"
   ]
  },
  {
   "cell_type": "markdown",
   "id": "75caf1f0-9f82-47f7-996e-64da2c41703a",
   "metadata": {},
   "source": [
    "#### STEPS\n",
    "* Create a plot of SFR vs. redshift for all galaxies and for those above our WISE SNR cut. Use the lowest 5% SFR at the upper 20% of our velocity range to determine our SFR limit.\n",
    "* Identify the (SNR cut) subsample's redshift value at and beyond which the elements in the array represent the 20% highest redshifts.\n",
    "* Of these 20% highest values, we now must isolate the galaxies with the lowest 5% SFR values."
   ]
  },
  {
   "cell_type": "code",
   "execution_count": 3,
   "id": "2289075a-79df-4ce3-b18b-b56010f26dc6",
   "metadata": {
    "tags": []
   },
   "outputs": [],
   "source": [
    "try:\n",
    "    snr_combined_flag = cat['SNR_flag']\n",
    "except:\n",
    "    #add SNR flags (SNR(NUV)>20 *or* SNR(W3)>20)\n",
    "    snr_nuv_flag = (ned_sample['Lum_NUV'] / ned_sample['Lum_NUV_unc']) > 20.\n",
    "    snr_w3_flag = (ned_sample['Lum_W3'] / ned_sample['Lum_W3_unc']) > 20.\n",
    "    snr_combined_flag = (snr_nuv_flag.data) | (snr_w3_flag.data)"
   ]
  },
  {
   "cell_type": "code",
   "execution_count": null,
   "id": "51f0782f-e8d4-4087-bfe0-87c29ca24db3",
   "metadata": {},
   "outputs": [],
   "source": []
  },
  {
   "cell_type": "code",
   "execution_count": null,
   "id": "ad5e01ee-9da0-4f75-9ea9-2a79f3cece4c",
   "metadata": {},
   "outputs": [],
   "source": []
  },
  {
   "cell_type": "code",
   "execution_count": 5,
   "id": "c77383f5-258a-460d-bc35-08687e695b33",
   "metadata": {
    "tags": []
   },
   "outputs": [],
   "source": [
    "ra=cat['RA']\n",
    "dec=cat['DEC']\n",
    "redshift=cat['Z']"
   ]
  },
  {
   "cell_type": "code",
   "execution_count": 12,
   "id": "cde53b0d-dc8b-40c6-9d84-d3810c68dbd1",
   "metadata": {
    "tags": []
   },
   "outputs": [],
   "source": [
    "from astropy.coordinates import SkyCoord\n",
    "import astropy.units as u"
   ]
  },
  {
   "cell_type": "code",
   "execution_count": 21,
   "id": "3095aab5-09f5-42fd-8966-f8aebdaa748b",
   "metadata": {
    "tags": []
   },
   "outputs": [],
   "source": [
    "#find distances between main object and all other galaxies. \n",
    "#convert degrees to radians\n",
    "#sort array, grab indices\n",
    "#grab fifth object (index = 4...assuming no zeroth object)\n",
    "#convert distance to Mpc using redshift of central object..?\n",
    "\n",
    "obj_1 = SkyCoord(ra[0]*u.deg, dec[0]*u.deg, frame='icrs')\n",
    "all_obj = SkyCoord(ra*u.deg, dec*u.deg, frame='icrs')"
   ]
  },
  {
   "cell_type": "code",
   "execution_count": 22,
   "id": "beb80513-496f-4a8b-bdad-7fa1e5936798",
   "metadata": {
    "tags": []
   },
   "outputs": [],
   "source": [
    "distances_deg = obj_1.separation(all_obj)"
   ]
  },
  {
   "cell_type": "code",
   "execution_count": 23,
   "id": "28387f85-0867-453e-acf0-bdb0c28595c1",
   "metadata": {
    "tags": []
   },
   "outputs": [],
   "source": [
    "distances_rad = distances_deg.radian"
   ]
  },
  {
   "cell_type": "code",
   "execution_count": 24,
   "id": "6e4285da-655a-4709-9f66-2f9ddbd0223a",
   "metadata": {
    "tags": []
   },
   "outputs": [
    {
     "data": {
      "text/plain": [
       "array([0.        , 0.40723817, 0.84878193, ..., 1.6240358 , 1.62392668,\n",
       "       1.64600929])"
      ]
     },
     "execution_count": 24,
     "metadata": {},
     "output_type": "execute_result"
    }
   ],
   "source": [
    "distances_rad"
   ]
  },
  {
   "cell_type": "code",
   "execution_count": null,
   "id": "e944a495-f238-42c2-8187-edce2d52a466",
   "metadata": {},
   "outputs": [],
   "source": []
  }
 ],
 "metadata": {
  "kernelspec": {
   "display_name": "Python 3 (ipykernel)",
   "language": "python",
   "name": "python3"
  },
  "language_info": {
   "codemirror_mode": {
    "name": "ipython",
    "version": 3
   },
   "file_extension": ".py",
   "mimetype": "text/x-python",
   "name": "python",
   "nbconvert_exporter": "python",
   "pygments_lexer": "ipython3",
   "version": "3.11.8"
  }
 },
 "nbformat": 4,
 "nbformat_minor": 5
}
