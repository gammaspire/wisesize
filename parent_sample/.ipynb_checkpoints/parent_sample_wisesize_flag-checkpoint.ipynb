{
 "cells": [
  {
   "cell_type": "code",
   "execution_count": 1,
   "id": "6adf1a29-b390-4d0b-be65-0ed694b50459",
   "metadata": {
    "tags": []
   },
   "outputs": [],
   "source": [
    "import numpy as np\n",
    "from matplotlib import pyplot as plt\n",
    "%matplotlib inline\n",
    "from astropy.table import Table\n",
    "\n",
    "import os\n",
    "homedir=os.getenv(\"HOME\")"
   ]
  },
  {
   "cell_type": "code",
   "execution_count": 15,
   "id": "4770f13c-9030-4034-b250-323c606ed020",
   "metadata": {
    "tags": []
   },
   "outputs": [],
   "source": [
    "nedlvs_parent = Table.read(homedir+'/Desktop/wisesize/NEDbyname-NEDLVS_20210922_v2.fits')\n",
    "wisesize = Table.read(homedir+'/Desktop/wisesize/wisesize_v4.fits')"
   ]
  },
  {
   "cell_type": "code",
   "execution_count": 16,
   "id": "2548fa78-9531-4c05-9494-d114aed36ded",
   "metadata": {},
   "outputs": [],
   "source": [
    "#convert objnames from tempel catalog to a set\n",
    "wisesize_names = set(wisesize['OBJNAME'])\n",
    "\n",
    "#create a boolean mask for whether each name in the parent table is in the nedlvs-tempel2017 table\n",
    "flag = [name in wisesize_names for name in nedlvs_parent['OBJNAME']]"
   ]
  },
  {
   "cell_type": "code",
   "execution_count": 20,
   "id": "ef1b4e51-c8ee-4efc-ab42-8890f82070fd",
   "metadata": {},
   "outputs": [],
   "source": [
    "#create a set of {objname: objid}\n",
    "name_to_id = {\n",
    "    objname: objid\n",
    "    for objname, objid in zip(wisesize_names, wisesize['OBJID'])\n",
    "}\n",
    "\n",
    "#apply mapping to nedlvs-parent, defaulting to --\n",
    "objids = [\n",
    "    name_to_id.get(str(name), '--')\n",
    "    for name in nedlvs_parent['OBJNAME']\n",
    "]"
   ]
  },
  {
   "cell_type": "code",
   "execution_count": 21,
   "id": "7099f31f-aaf8-4881-8e40-12a99021ecd6",
   "metadata": {
    "tags": []
   },
   "outputs": [],
   "source": [
    "parent_table = Table([nedlvs_parent['OBJNAME'],objids,nedlvs_parent['RA'],\n",
    "                          nedlvs_parent['DEC'],nedlvs_parent['Z'],nedlvs_parent['OBJTYPE'],\n",
    "                          flag],\n",
    "                           names=['OBJNAME','OBJID','RA','DEC','Z','OBJTYPE','WISESize_flag'])"
   ]
  },
  {
   "cell_type": "code",
   "execution_count": 22,
   "id": "df4802bc-18e9-4339-b294-d08f7616317b",
   "metadata": {},
   "outputs": [],
   "source": [
    "parent_table.sort('OBJID')"
   ]
  },
  {
   "cell_type": "code",
   "execution_count": 25,
   "id": "193caf7c-4e98-4b5b-8c2d-7a639a30f61f",
   "metadata": {
    "tags": []
   },
   "outputs": [],
   "source": [
    "parent_table.write(homedir+'/Desktop/wisesize/nedlvs_parent_v1.fits')"
   ]
  }
 ],
 "metadata": {
  "kernelspec": {
   "display_name": "Python 3 (ipykernel)",
   "language": "python",
   "name": "python3"
  },
  "language_info": {
   "codemirror_mode": {
    "name": "ipython",
    "version": 3
   },
   "file_extension": ".py",
   "mimetype": "text/x-python",
   "name": "python",
   "nbconvert_exporter": "python",
   "pygments_lexer": "ipython3",
   "version": "3.11.8"
  }
 },
 "nbformat": 4,
 "nbformat_minor": 5
}
