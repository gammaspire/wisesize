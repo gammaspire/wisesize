{
 "cells": [
  {
   "cell_type": "code",
   "execution_count": 2,
   "id": "bc66f1dd-dc4c-4fb2-8dc9-df21ff2a5f70",
   "metadata": {
    "tags": []
   },
   "outputs": [],
   "source": [
    "import numpy as np\n",
    "from matplotlib import pyplot as plt\n",
    "%matplotlib inline\n",
    "from astropy.table import Table\n",
    "import os\n",
    "homedir=os.getenv('HOME')"
   ]
  },
  {
   "cell_type": "markdown",
   "id": "c0b3d898-e4f9-4dff-9158-678f79035522",
   "metadata": {},
   "source": [
    "https://github.com/gammaspire/research/blob/local/data_analysis/SFRcut_diagnostics.ipynb"
   ]
  },
  {
   "cell_type": "code",
   "execution_count": null,
   "id": "eb94be30-fcab-4dce-a895-772a2c64d001",
   "metadata": {},
   "outputs": [],
   "source": []
  }
 ],
 "metadata": {
  "kernelspec": {
   "display_name": "Python 3 (ipykernel)",
   "language": "python",
   "name": "python3"
  },
  "language_info": {
   "codemirror_mode": {
    "name": "ipython",
    "version": 3
   },
   "file_extension": ".py",
   "mimetype": "text/x-python",
   "name": "python",
   "nbconvert_exporter": "python",
   "pygments_lexer": "ipython3",
   "version": "3.11.8"
  }
 },
 "nbformat": 4,
 "nbformat_minor": 5
}
